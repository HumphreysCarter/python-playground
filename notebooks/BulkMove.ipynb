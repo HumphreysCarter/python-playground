{
 "cells": [
  {
   "cell_type": "code",
   "execution_count": 3,
   "metadata": {
    "collapsed": true
   },
   "outputs": [],
   "source": [
    "import os"
   ]
  },
  {
   "cell_type": "code",
   "execution_count": 4,
   "metadata": {
    "collapsed": false
   },
   "outputs": [],
   "source": [
    "dir='/home/CarterHumphreys/research/les_neural_network/data/BUFKIT'\n",
    "newDir='/home/CarterHumphreys/research/les_neural_network/plots/SkewT'\n",
    "\n",
    "for i in range(0, 12):\n",
    "    subDir=f'{dir}/Ontario_LES_Event{str(i+1).zfill(2)}'\n",
    "\n",
    "    for file in os.listdir(subDir):\n",
    "        try:\n",
    "            if 'SkewT' in file:\n",
    "                os.system(f'mv {subDir}/{file} {subDir.replace(dir, newDir)}/{file}')\n",
    "        except:\n",
    "            print(f'Skipping {file}')"
   ]
  }
 ],
 "metadata": {
  "kernelspec": {
   "display_name": "Python 3.7",
   "language": "python",
   "name": "python3.7"
  },
  "language_info": {
   "codemirror_mode": {
    "name": "ipython",
    "version": 3
   },
   "file_extension": ".py",
   "mimetype": "text/x-python",
   "name": "python",
   "nbconvert_exporter": "python",
   "pygments_lexer": "ipython3",
   "version": "3.7.5"
  }
 },
 "nbformat": 4,
 "nbformat_minor": 0
}
